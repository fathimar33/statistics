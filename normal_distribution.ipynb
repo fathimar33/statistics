{
 "cells": [
  {
   "cell_type": "code",
   "execution_count": 5,
   "id": "854ca169",
   "metadata": {},
   "outputs": [],
   "source": [
    "import pandas as pd"
   ]
  },
  {
   "cell_type": "code",
   "execution_count": 6,
   "id": "6c8e521c",
   "metadata": {},
   "outputs": [],
   "source": [
    "df=pd.DataFrame(pd.read_csv(\"CompanyABCProfit.csv\"))"
   ]
  },
  {
   "cell_type": "code",
   "execution_count": 7,
   "id": "0ebfb042",
   "metadata": {},
   "outputs": [
    {
     "data": {
      "text/html": [
       "<div>\n",
       "<style scoped>\n",
       "    .dataframe tbody tr th:only-of-type {\n",
       "        vertical-align: middle;\n",
       "    }\n",
       "\n",
       "    .dataframe tbody tr th {\n",
       "        vertical-align: top;\n",
       "    }\n",
       "\n",
       "    .dataframe thead th {\n",
       "        text-align: right;\n",
       "    }\n",
       "</style>\n",
       "<table border=\"1\" class=\"dataframe\">\n",
       "  <thead>\n",
       "    <tr style=\"text-align: right;\">\n",
       "      <th></th>\n",
       "      <th>Year</th>\n",
       "      <th>Profit(Rs '000)</th>\n",
       "    </tr>\n",
       "  </thead>\n",
       "  <tbody>\n",
       "    <tr>\n",
       "      <th>0</th>\n",
       "      <td>1821</td>\n",
       "      <td>1645</td>\n",
       "    </tr>\n",
       "    <tr>\n",
       "      <th>1</th>\n",
       "      <td>1822</td>\n",
       "      <td>658</td>\n",
       "    </tr>\n",
       "    <tr>\n",
       "      <th>2</th>\n",
       "      <td>1823</td>\n",
       "      <td>1926</td>\n",
       "    </tr>\n",
       "    <tr>\n",
       "      <th>3</th>\n",
       "      <td>1824</td>\n",
       "      <td>865</td>\n",
       "    </tr>\n",
       "    <tr>\n",
       "      <th>4</th>\n",
       "      <td>1825</td>\n",
       "      <td>764</td>\n",
       "    </tr>\n",
       "    <tr>\n",
       "      <th>...</th>\n",
       "      <td>...</td>\n",
       "      <td>...</td>\n",
       "    </tr>\n",
       "    <tr>\n",
       "      <th>195</th>\n",
       "      <td>2016</td>\n",
       "      <td>988</td>\n",
       "    </tr>\n",
       "    <tr>\n",
       "      <th>196</th>\n",
       "      <td>2017</td>\n",
       "      <td>895</td>\n",
       "    </tr>\n",
       "    <tr>\n",
       "      <th>197</th>\n",
       "      <td>2018</td>\n",
       "      <td>-178</td>\n",
       "    </tr>\n",
       "    <tr>\n",
       "      <th>198</th>\n",
       "      <td>2019</td>\n",
       "      <td>543</td>\n",
       "    </tr>\n",
       "    <tr>\n",
       "      <th>199</th>\n",
       "      <td>2020</td>\n",
       "      <td>316</td>\n",
       "    </tr>\n",
       "  </tbody>\n",
       "</table>\n",
       "<p>200 rows × 2 columns</p>\n",
       "</div>"
      ],
      "text/plain": [
       "     Year  Profit(Rs '000)\n",
       "0    1821             1645\n",
       "1    1822              658\n",
       "2    1823             1926\n",
       "3    1824              865\n",
       "4    1825              764\n",
       "..    ...              ...\n",
       "195  2016              988\n",
       "196  2017              895\n",
       "197  2018             -178\n",
       "198  2019              543\n",
       "199  2020              316\n",
       "\n",
       "[200 rows x 2 columns]"
      ]
     },
     "execution_count": 7,
     "metadata": {},
     "output_type": "execute_result"
    }
   ],
   "source": [
    "df"
   ]
  },
  {
   "cell_type": "code",
   "execution_count": 8,
   "id": "ebe67bee",
   "metadata": {},
   "outputs": [],
   "source": [
    "import seaborn as sns"
   ]
  },
  {
   "cell_type": "code",
   "execution_count": 36,
   "id": "cd61c5b3",
   "metadata": {},
   "outputs": [
    {
     "data": {
      "text/plain": [
       "<AxesSubplot:xlabel=\"Profit(Rs '000)\", ylabel='Count'>"
      ]
     },
     "execution_count": 36,
     "metadata": {},
     "output_type": "execute_result"
    },
    {
     "data": {
      "image/png": "[encoded data removed]",
      "text/plain": [
       "<Figure size 640x480 with 1 Axes>"
      ]
     },
     "metadata": {},
     "output_type": "display_data"
    }
   ],
   "source": [
    "sns.histplot(df[\"Profit(Rs '000)\"],kde=True,bins=10)"
   ]
  },
  {
   "cell_type": "raw",
   "id": "3f795a83",
   "metadata": {},
   "source": [
    "Conclusion:\n",
    "    65% of data lies between 534 and 1510\n",
    "    Average profit is 1021.99\n",
    "    It is less likely to  have the profit of rps 500 \n",
    "    "
   ]
  },
  {
   "cell_type": "code",
   "execution_count": 22,
   "id": "0d96b1c5",
   "metadata": {},
   "outputs": [
    {
     "data": {
      "text/plain": [
       "1021.99"
      ]
     },
     "execution_count": 22,
     "metadata": {},
     "output_type": "execute_result"
    }
   ],
   "source": [
    "df[\"Profit(Rs '000)\"].mean()"
   ]
  },
  {
   "cell_type": "code",
   "execution_count": 27,
   "id": "1364a82b",
   "metadata": {},
   "outputs": [
    {
     "data": {
      "text/plain": [
       "487.9556264321933"
      ]
     },
     "execution_count": 27,
     "metadata": {},
     "output_type": "execute_result"
    }
   ],
   "source": [
    "df[\"Profit(Rs '000)\"].std()"
   ]
  },
  {
   "cell_type": "raw",
   "id": "5c750ba9",
   "metadata": {},
   "source": [
    "questions:\n",
    "    1)find the probability of having profit 1500 and 2000\n",
    "    2)find the probability of having profit greater than 1000\n",
    "    3)find the probability of having profit lesser than 500\n",
    "    "
   ]
  },
  {
   "cell_type": "code",
   "execution_count": 41,
   "id": "acd96c7f",
   "metadata": {},
   "outputs": [
    {
     "name": "stdout",
     "output_type": "stream",
     "text": [
      "probability: 0.1411\n",
      "percentage: 14.11\n"
     ]
    }
   ],
   "source": [
    "#1)find the probability of having profit 1500 and 2000\n",
    "\n",
    "from scipy.stats import norm \n",
    "mean=df[\"Profit(Rs '000)\"].mean()\n",
    "std=df[\"Profit(Rs '000)\"].std()\n",
    "prob=norm.cdf(2000,loc=mean,scale=std)-norm.cdf(1500,loc=mean,scale=std)\n",
    "print(\"probability:\",round(prob,4))\n",
    "per=prob*100\n",
    "print(\"percentage:\",round(per,2))\n",
    "\n"
   ]
  },
  {
   "cell_type": "raw",
   "id": "d49347b3",
   "metadata": {},
   "source": [
    "Conclusion:\n",
    "so there is 14 percentage chance for the profit to be between 1500 and 2000"
   ]
  },
  {
   "cell_type": "code",
   "execution_count": 42,
   "id": "bef79485",
   "metadata": {},
   "outputs": [
    {
     "name": "stdout",
     "output_type": "stream",
     "text": [
      "probability: 0.518\n",
      "percentage: 51.8\n"
     ]
    }
   ],
   "source": [
    "#2)find the probability of having profit greater than 1000\n",
    "\n",
    "mean=df[\"Profit(Rs '000)\"].mean()\n",
    "std=df[\"Profit(Rs '000)\"].std()\n",
    "prob=1-norm.cdf(1000,loc=mean,scale=std)\n",
    "print(\"probability:\",round(prob,4))\n",
    "per=prob*100\n",
    "print(\"percentage:\",round(per,2))\n"
   ]
  },
  {
   "cell_type": "code",
   "execution_count": 43,
   "id": "c4d298ce",
   "metadata": {},
   "outputs": [
    {
     "name": "stdout",
     "output_type": "stream",
     "text": [
      "probability: 0.1424\n",
      "percentage: 14.24\n"
     ]
    }
   ],
   "source": [
    "#3)find the probability of having profit lesser than 500\n",
    "\n",
    "mean=df[\"Profit(Rs '000)\"].mean()\n",
    "std=df[\"Profit(Rs '000)\"].std()\n",
    "prob=norm.cdf(500,loc=mean,scale=std)\n",
    "print(\"probability:\",round(prob,4))\n",
    "per=prob*100\n",
    "print(\"percentage:\",round(per,2))\n"
   ]
  },
  {
   "cell_type": "code",
   "execution_count": null,
   "id": "fb32a7e2",
   "metadata": {},
   "outputs": [],
   "source": []
  }
 ],
 "metadata": {
  "kernelspec": {
   "display_name": "Python 3 (ipykernel)",
   "language": "python",
   "name": "python3"
  },
  "language_info": {
   "codemirror_mode": {
    "name": "ipython",
    "version": 3
   },
   "file_extension": ".py",
   "mimetype": "text/x-python",
   "name": "python",
   "nbconvert_exporter": "python",
   "pygments_lexer": "ipython3",
   "version": "3.9.13"
  }
 },
 "nbformat": 4,
 "nbformat_minor": 5
}
