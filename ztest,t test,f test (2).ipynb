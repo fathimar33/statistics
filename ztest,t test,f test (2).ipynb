{
 "cells": [
  {
   "cell_type": "raw",
   "id": "6e3cbc6b",
   "metadata": {},
   "source": [
    "z test:\n",
    "ztest helps to determine the significant difference\n",
    "between the sample means\n",
    "between the sample mean and the population mean\n",
    "to check the proportions between two regions\n",
    "\n",
    "Z test is preferred whwn the sample size is larger than 30\n",
    "and population standard deviation is known"
   ]
  },
  {
   "cell_type": "code",
   "execution_count": 6,
   "id": "045dffd2",
   "metadata": {},
   "outputs": [],
   "source": [
    "from scipy.stats import norm"
   ]
  },
  {
   "cell_type": "raw",
   "id": "aa5f8247",
   "metadata": {},
   "source": [
    "Null hypothesis (H0): The sample mean is equal to the population mean.\n",
    "Alternative hypothesis (H1): The sample mean is different from the population mean."
   ]
  },
  {
   "cell_type": "code",
   "execution_count": 25,
   "id": "20f7b3fb",
   "metadata": {},
   "outputs": [
    {
     "name": "stdout",
     "output_type": "stream",
     "text": [
      "Null hypothesis is rejected\n"
     ]
    }
   ],
   "source": [
    "import scipy.stats as stats\n",
    "\n",
    "sample_mean = 4\n",
    "population_mean = 5\n",
    "sd = 2\n",
    "sample_size = 400\n",
    "alpha = 0.05\n",
    "\n",
    "std_error = sd / (sample_size ** 0.5)  # Standard error calculation\n",
    "z_score = abs((sample_mean - population_mean) / std_error)\n",
    "critical_value = stats.norm.ppf(1 - alpha / 2)  # Two-tailed test\n",
    "\n",
    "if z_score > critical_value:\n",
    "    print(\"Null hypothesis is rejected\")\n",
    "else:\n",
    "    print(\"Null hypothesis is accepted\")\n",
    "\n",
    "\n"
   ]
  },
  {
   "cell_type": "raw",
   "id": "fdaaefe4",
   "metadata": {},
   "source": [
    "Result:there is a meaningful difference between the sample and the population mean."
   ]
  },
  {
   "cell_type": "code",
   "execution_count": 21,
   "id": "a4ee9fe0",
   "metadata": {},
   "outputs": [
    {
     "name": "stdout",
     "output_type": "stream",
     "text": [
      "null hypothesis is rejected\n"
     ]
    }
   ],
   "source": [
    "#TO COMPARE TWO SAMPLES ARE SIGNIFICANTLY DIFFERENT OR NOT\n",
    "\n",
    "import numpy as np\n",
    "import scipy.stats as stats\n",
    "\n",
    "# Sample mean for group 1\n",
    "mean1 = 6.75\n",
    "\n",
    "# Sample mean for group 2\n",
    "mean2 = 68\n",
    "\n",
    "# Known population standard deviation for both groups\n",
    "std_population1 = 2.5\n",
    "std_population2 = 3\n",
    "\n",
    "# Number of observations in each group\n",
    "n1 = 1200\n",
    "n2 = 1500\n",
    "# Compute the standard error\n",
    "se = np.sqrt((2.5**2 / n1) + (std_population2**2 / n2))\n",
    "\n",
    "# Compute the test statistic\n",
    "z_statistic = (mean1 - mean2) / se\n",
    "z=abs(z_statistic)\n",
    "\n",
    "# Compute the p-value\n",
    "critical_value= norm.ppf(1-(alpha/2))\n",
    "if z>critical_value:\n",
    "    print(\"null hypothesis is rejected\")\n",
    "else:\n",
    "     print(\"null hypothesis is accepted\")\n",
    "\n"
   ]
  },
  {
   "cell_type": "raw",
   "id": "2c11ca23",
   "metadata": {},
   "source": [
    "result: two samples are taken from the same population"
   ]
  },
  {
   "cell_type": "raw",
   "id": "04ece495",
   "metadata": {},
   "source": [
    "T Test:\n",
    "    when the sample size is lesser than 30\n",
    "    population standard deviation is not known\n",
    "    "
   ]
  },
  {
   "cell_type": "raw",
   "id": "ee479505",
   "metadata": {},
   "source": [
    "T test Procedure:Formulate the null hypothesis (H0) and alternative hypothesis (H1):\n",
    "\n",
    "H0: The sample mean is equal to the population mean.\n",
    "H1: The sample mean is different from the population mean.\n",
    "Collect your sample data. This should be a random sample that is representative of the population you are interested in.\n",
    "\n",
    "Calculate the sample mean (x̄) and the sample standard deviation (s) from your sample data.\n",
    "\n",
    "Specify the population mean you want to compare your sample mean to. This could be a specific value or a hypothesized value.\n",
    "\n",
    "Determine the significance level (alpha) you want to use. A common choice is 0.05.\n",
    "\n",
    "Calculate the t-value using the formula:\n",
    "t = (x̄ - μ) / (s / √n)\n",
    "Where x̄ is the sample mean, μ is the population mean, s is the sample standard deviation, and n is the sample size.\n",
    "\n",
    "Determine the degrees of freedom (df). For a one-sample t-test, df = n - 1, where n is the sample size.\n",
    "\n",
    "Find the critical t-value from the t-distribution table or use statistical software. This value corresponds to the desired significance level and degrees of freedom.\n",
    "\n",
    "Compare the calculated t-value with the critical t-value:\n",
    "\n",
    "If the calculated t-value is greater than the critical t-value or falls in the rejection region, reject the null hypothesis and conclude that the sample mean is significantly different from the population mean.\n",
    "If the calculated t-value is less than the critical t-value, fail to reject the null hypothesis and conclude that there is not enough evidence to suggest a significant difference.\n",
    "Calculate the p-value associated with the calculated t-value. The p-value represents the probability of obtaining the observed difference (or a more extreme difference) assuming the null hypothesis is true. If the p-value is less than the chosen significance level (alpha), reject the null hypothesis.\n",
    "\n",
    "\n",
    "    "
   ]
  },
  {
   "cell_type": "code",
   "execution_count": 28,
   "id": "d06db30a",
   "metadata": {},
   "outputs": [
    {
     "name": "stdout",
     "output_type": "stream",
     "text": [
      "T-statistic: -2.6548605660484004\n",
      "P-value: 0.026266108928700148\n",
      "null hypothesis is rejected\n"
     ]
    }
   ],
   "source": [
    "#to check if the sample from the population\n",
    "import scipy.stats as stats\n",
    "\n",
    "# Sample data\n",
    "sample = [25, 28, 22, 30, 35, 20, 18, 23, 27, 29]\n",
    "\n",
    "# Population mean (hypothesized or known)\n",
    "population_mean = 30 #degree of freedom=n(sample_size)-1\n",
    "\n",
    "t_statistic, p_value = stats.ttest_1samp(sample, population_mean)\n",
    "\n",
    "print(\"T-statistic:\", t_statistic)\n",
    "print(\"P-value:\", p_value)\n",
    "\n",
    "alpha=0.05\n",
    "\n",
    "if(p_value<alpha):\n",
    "    print(\"null hypothesis is rejected\")\n",
    "else:\n",
    "    print(\"null hypothesis is acceped\")\n",
    "\n",
    "\n"
   ]
  },
  {
   "cell_type": "raw",
   "id": "9432d789",
   "metadata": {},
   "source": [
    "result: sample mean is equal to population mean"
   ]
  },
  {
   "cell_type": "raw",
   "id": "b1a5e850",
   "metadata": {},
   "source": [
    "Formulate the null hypothesis (H0) and alternative hypothesis (H1):\n",
    "\n",
    "H0: The means of the two samples are equal (there is no significant difference).\n",
    "H1: The means of the two samples are different (there is a significant difference).\n",
    "Collect your two samples, denoted as Sample 1 and Sample 2. These should be independent samples from their respective populations.\n",
    "\n",
    "Calculate the sample means (x̄1 and x̄2) and the sample standard deviations (s1 and s2) of the two samples.\n",
    "\n",
    "Specify the significance level (alpha) you want to use. A common choice is 0.05.\n",
    "\n",
    "Calculate the pooled standard deviation (sp) using the formula:\n",
    "sp = √((s1^2 + s2^2) / (n1 + n2 - 2))\n",
    "Where s1 and s2 are the sample standard deviations, n1 and n2 are the sample sizes.\n",
    "\n",
    "Calculate the t-value using the formula:\n",
    "t = (x̄1 - x̄2) / (sp * √((1 / n1) + (1 / n2)))\n",
    "Where x̄1 and x̄2 are the sample means, sp is the pooled standard deviation, n1 and n2 are the sample sizes.\n",
    "\n",
    "Determine the degrees of freedom (df). For a two-sample t-test, df = n1 + n2 - 2, where n1 and n2 are the sample sizes.\n",
    "\n",
    "Find the critical t-value from the t-distribution table or use statistical software. This value corresponds to the desired significance level and degrees of freedom.\n",
    "\n",
    "Compare the calculated t-value with the critical t-value:\n",
    "\n",
    "If the calculated t-value is greater than the critical t-value or falls in the rejection region, reject the null hypothesis and conclude that there is a significant difference between the two sample means.\n",
    "If the calculated t-value is less than the critical t-value, fail to reject the null hypothesis and conclude that there is not enough evidence to suggest a significant difference.\n",
    "Calculate the p-value associated with the calculated t-value. The p-value represents the probability of obtaining the observed difference (or a more extreme difference) assuming the null hypothesis is true. If the p-value is less than the chosen significance level (alpha), reject the null hypothesis."
   ]
  },
  {
   "cell_type": "code",
   "execution_count": 30,
   "id": "30113fb4",
   "metadata": {},
   "outputs": [
    {
     "name": "stdout",
     "output_type": "stream",
     "text": [
      "T-statistic: 1.921593021339242\n",
      "P-value: 0.0768530899336887\n",
      "null hypothesis is acceped\n"
     ]
    }
   ],
   "source": [
    "import scipy.stats as stats\n",
    "\n",
    "# Sample data\n",
    "sample1 = [25, 28, 22, 30, 35,24,55,67,77,88]\n",
    "sample2 = [20, 18, 23, 27, 29]\n",
    "\n",
    "# Perform two-sample t-test\n",
    "t_statistic, p_value = stats.ttest_ind(sample1, sample2) #degree of freedom=n1+n2(sample_size)-2\n",
    "#it can handle also different length in samples by considering variance different\n",
    "\n",
    "# Print the results\n",
    "print(\"T-statistic:\", t_statistic)\n",
    "print(\"P-value:\", p_value)\n",
    "alpha=0.05\n",
    "\n",
    "if(p_value<alpha):\n",
    "    print(\"null hypothesis is rejected\")\n",
    "else:\n",
    "    print(\"null hypothesis is acceped\")\n"
   ]
  },
  {
   "cell_type": "raw",
   "id": "931aad8c",
   "metadata": {},
   "source": [
    "one way anova:\n",
    "    \n",
    "    One way is used if we want to compare the means of three or more groups \n",
    "    It  can be achieved by f distribution"
   ]
  },
  {
   "cell_type": "raw",
   "id": "74d527b9",
   "metadata": {},
   "source": [
    " F-distribution has two parameters: the degrees of freedom for the numerator (dfN) and the degrees of freedom for the denominator (dfD). These degrees of freedom correspond to the number of groups being compared (dfN) and the total sample size minus the number of groups (dfD) in the context of ANOVA.\n",
    "\n",
    "The F-distribution is always non-negative and skewed to the right. Its shape varies depending on the degrees of freedom. As the degrees of freedom increase, the F-distribution becomes more symmetrical and approaches a normal distribution."
   ]
  },
  {
   "cell_type": "raw",
   "id": "2fadd909",
   "metadata": {},
   "source": [
    "Example for one way\n",
    "null hypthesis=there is no significant difference between three groups\n",
    "alternate hypothesis=there is significant difference between three groups"
   ]
  },
  {
   "cell_type": "raw",
   "id": "4b7c905c",
   "metadata": {},
   "source": [
    "#one independent variable means these three factors are depend on one variable\n",
    "\n",
    "example: if we want to analyze 10 th scores of three different schools\n",
    "school=independent marks=dependent"
   ]
  },
  {
   "cell_type": "code",
   "execution_count": 32,
   "id": "451c1679",
   "metadata": {},
   "outputs": [
    {
     "name": "stdout",
     "output_type": "stream",
     "text": [
      "F-statistic: 3.857142857142857\n",
      "p-value: 0.05086290933139865\n",
      "null hypothesis is accepted\n"
     ]
    }
   ],
   "source": [
    "from scipy.stats import f_oneway\n",
    "\n",
    "# Data for three groups (as numpy arrays or lists)\n",
    "group1 = [1, 2, 3, 4, 5]\n",
    "group2 = [2, 4, 6, 8, 10]\n",
    "group3 = [3, 6, 9, 12, 15]\n",
    "\n",
    "# Perform one-way ANOVA using the F-test\n",
    "f_statistic, p_value = f_oneway(group1, group2, group3) #degrees of freedom =number of groups-1\n",
    "\n",
    "# Print the results\n",
    "print(\"F-statistic:\", f_statistic)\n",
    "print(\"p-value:\", p_value)\n",
    "alpha=0.05\n",
    "if p_value<alpha:\n",
    "    print(\"null hypothesis is rejected\")\n",
    "else:\n",
    "    print(\"null hypothesis is accepted\")\n",
    "\n",
    "    "
   ]
  },
  {
   "cell_type": "raw",
   "id": "ed07b3a6",
   "metadata": {},
   "source": [
    "f test for two way anova:\n",
    "two way anova:\n",
    "two independent variables,so the groups will be dependent on two factors "
   ]
  },
  {
   "cell_type": "raw",
   "id": "e98cf1c4",
   "metadata": {},
   "source": [
    "example: suppose two factors:        \n",
    "type of diet let it be factor a= there are three types of weight\n",
    "type of exercise(easy,moderate,high)\n",
    "going to determine if these two factors has something to do with weightloss"
   ]
  },
  {
   "cell_type": "raw",
   "id": "2b89dd89",
   "metadata": {},
   "source": [
    "type of exercise       easy        moderate        high\n",
    "     a1                   2             4             6\n",
    "     a2                   3             5             7\n",
    "     a3                   4             6             8"
   ]
  },
  {
   "cell_type": "code",
   "execution_count": 33,
   "id": "e84bf637",
   "metadata": {},
   "outputs": [
    {
     "name": "stdout",
     "output_type": "stream",
     "text": [
      "F-statistic: nan\n",
      "p-value: nan\n"
     ]
    },
    {
     "name": "stderr",
     "output_type": "stream",
     "text": [
      "C:\\Users\\fathi\\anaconda3\\lib\\site-packages\\scipy\\stats\\_stats_py.py:3877: DegenerateDataWarning: all input arrays have length 1.  f_oneway requires that at least one input has length greater than 1.\n",
      "  warnings.warn(stats.DegenerateDataWarning(msg))\n"
     ]
    }
   ],
   "source": [
    "from scipy.stats import f_oneway\n",
    "\n",
    "# Data for each group (as numpy arrays or lists)\n",
    "group_A1_B1 = [2]\n",
    "group_A1_B2 = [4]\n",
    "group_A1_B3 = [6]\n",
    "group_A2_B1 = [3]\n",
    "group_A2_B2 = [5]\n",
    "group_A2_B3 = [7]\n",
    "group_A3_B1 = [4]\n",
    "group_A3_B2 = [6]\n",
    "group_A3_B3 = [8]\n",
    "\n",
    "# Perform two-way ANOVA using the F-test\n",
    "f_statistic, p_value = f_oneway(\n",
    "    group_A1_B1, group_A1_B2, group_A1_B3,\n",
    "    group_A2_B1, group_A2_B2, group_A2_B3,\n",
    "    group_A3_B1, group_A3_B2, group_A3_B3\n",
    ")\n",
    "\n",
    "# Print the results\n",
    "print(\"F-statistic:\", f_statistic)\n",
    "print(\"p-value:\", p_value)\n"
   ]
  },
  {
   "cell_type": "code",
   "execution_count": 36,
   "id": "a729fff0",
   "metadata": {},
   "outputs": [
    {
     "name": "stdout",
     "output_type": "stream",
     "text": [
      "F-statistic: 11.25\n",
      "p-value: 1.3419348143773245e-05\n"
     ]
    }
   ],
   "source": [
    "from scipy.stats import f_oneway\n",
    "\n",
    "# Data for each group (as numpy arrays or lists)\n",
    "group_A1_B1 = [2, 3, 4]\n",
    "group_A1_B2 = [4, 5, 6]\n",
    "group_A1_B3 = [6, 7, 8]\n",
    "group_A2_B1 = [3, 4, 5]\n",
    "group_A2_B2 = [5, 6, 7]\n",
    "group_A2_B3 = [7, 8, 9]\n",
    "group_A3_B1 = [4, 5, 6]\n",
    "group_A3_B2 = [6, 7, 8]\n",
    "group_A3_B3 = [8, 9, 10]\n",
    "\n",
    "# Perform two-way ANOVA using the F-test\n",
    "f_statistic, p_value = f_oneway(\n",
    "    group_A1_B1, group_A1_B2, group_A1_B3,\n",
    "    group_A2_B1, group_A2_B2, group_A2_B3,\n",
    "    group_A3_B1, group_A3_B2, group_A3_B3\n",
    ")\n",
    "\n",
    "# Print the results\n",
    "print(\"F-statistic:\", f_statistic)\n",
    "print(\"p-value:\", p_value)\n"
   ]
  },
  {
   "cell_type": "code",
   "execution_count": 39,
   "id": "4f2415d9",
   "metadata": {},
   "outputs": [
    {
     "name": "stdout",
     "output_type": "stream",
     "text": [
      "F-statistic: nan\n",
      "p-value: nan\n"
     ]
    }
   ],
   "source": [
    "from scipy.stats import f_oneway\n",
    "\n",
    "# Data for each combination of exercise type and treatment (as numpy arrays or lists)\n",
    "easy_a1 = [36]\n",
    "easy_a2 = [36]\n",
    "easy_a3 = [21]\n",
    "moderate_a1 = [36]\n",
    "moderate_a2 = [28]\n",
    "moderate_a3 = [29]\n",
    "high_a1 = [31]\n",
    "high_a2 = [26]\n",
    "high_a3 = [28]\n",
    "\n",
    "# Perform two-way ANOVA using the F-test\n",
    "f_statistic, p_value = f_oneway(\n",
    "    easy_a1, easy_a2, easy_a3,\n",
    "    moderate_a1, moderate_a2, moderate_a3,\n",
    "    high_a1, high_a2, high_a3\n",
    ")\n",
    "\n",
    "# Print the results\n",
    "print(\"F-statistic:\", f_statistic)\n",
    "print(\"p-value:\", p_value)\n"
   ]
  }
 ],
 "metadata": {
  "kernelspec": {
   "display_name": "Python 3 (ipykernel)",
   "language": "python",
   "name": "python3"
  },
  "language_info": {
   "codemirror_mode": {
    "name": "ipython",
    "version": 3
   },
   "file_extension": ".py",
   "mimetype": "text/x-python",
   "name": "python",
   "nbconvert_exporter": "python",
   "pygments_lexer": "ipython3",
   "version": "3.9.13"
  }
 },
 "nbformat": 4,
 "nbformat_minor": 5
}
